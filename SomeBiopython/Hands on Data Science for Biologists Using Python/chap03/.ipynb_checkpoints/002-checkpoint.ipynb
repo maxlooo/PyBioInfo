{
 "cells": [
  {
   "cell_type": "code",
   "execution_count": 2,
   "id": "952b7d6c",
   "metadata": {},
   "outputs": [],
   "source": [
    "from Bio.PDB.PDBParser import PDBParser\n",
    "parser = PDBParser(QUIET = True)\n",
    "pdb_id = \"1mbs\"\n",
    "pdb_filename = \"pdb1mbs.ent\"\n",
    "structure_pdb = parser.get_structure(pdb_id, pdb_filename)"
   ]
  },
  {
   "cell_type": "code",
   "execution_count": 3,
   "id": "edd87ed6",
   "metadata": {},
   "outputs": [
    {
     "data": {
      "application/vnd.jupyter.widget-view+json": {
       "model_id": "c1d6c7ad13994bfba5938c5acc0ef4f6",
       "version_major": 2,
       "version_minor": 0
      },
      "text/plain": [
       "NGLWidget()"
      ]
     },
     "metadata": {},
     "output_type": "display_data"
    }
   ],
   "source": [
    "import nglview as nv\n",
    "view = nv.show_biopython(structure_pdb)\n",
    "view"
   ]
  },
  {
   "cell_type": "code",
   "execution_count": null,
   "id": "a3a4c5fd",
   "metadata": {},
   "outputs": [],
   "source": []
  }
 ],
 "metadata": {
  "kernelspec": {
   "display_name": "Python 3",
   "language": "python",
   "name": "python3"
  },
  "language_info": {
   "codemirror_mode": {
    "name": "ipython",
    "version": 3
   },
   "file_extension": ".py",
   "mimetype": "text/x-python",
   "name": "python",
   "nbconvert_exporter": "python",
   "pygments_lexer": "ipython3",
   "version": "3.7.11"
  }
 },
 "nbformat": 4,
 "nbformat_minor": 5
}
