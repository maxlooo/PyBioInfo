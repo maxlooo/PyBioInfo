{
 "cells": [
  {
   "cell_type": "code",
   "execution_count": 1,
   "id": "5a70a20d",
   "metadata": {},
   "outputs": [],
   "source": [
    "# http://biopython.org/DIST/docs/tutorial/Tutorial.html\n",
    "import Bio"
   ]
  },
  {
   "cell_type": "code",
   "execution_count": 2,
   "id": "bbe14e9c",
   "metadata": {},
   "outputs": [
    {
     "name": "stdout",
     "output_type": "stream",
     "text": [
      "1.79\n"
     ]
    }
   ],
   "source": [
    "print(Bio.__version__)"
   ]
  },
  {
   "cell_type": "code",
   "execution_count": 3,
   "id": "439ac5c8",
   "metadata": {},
   "outputs": [
    {
     "name": "stdout",
     "output_type": "stream",
     "text": [
      "<class 'Bio.Seq.Seq'>\n"
     ]
    }
   ],
   "source": [
    "from Bio.Seq import Seq\n",
    "my_seq = Seq(\"ATGGCCTTAAA\")\n",
    "print(type(my_seq))"
   ]
  },
  {
   "cell_type": "code",
   "execution_count": 4,
   "id": "c9e94728",
   "metadata": {},
   "outputs": [
    {
     "name": "stdout",
     "output_type": "stream",
     "text": [
      "ATGGCCTTAAA\n"
     ]
    }
   ],
   "source": [
    "print(my_seq)"
   ]
  },
  {
   "cell_type": "code",
   "execution_count": 16,
   "id": "71a3b4f4",
   "metadata": {},
   "outputs": [
    {
     "name": "stdout",
     "output_type": "stream",
     "text": [
      "ID: dnatest\n",
      "Name: <unknown name>\n",
      "Description: <unknown description>\n",
      "Number of features: 0\n",
      "/molecule_type=DNA\n",
      "Seq('ATGGCCTTAAAN')\n"
     ]
    }
   ],
   "source": [
    "from Bio.Seq import Seq\n",
    "from Bio.SeqRecord import SeqRecord\n",
    "my_seq = Seq(\"ATGGCCTTAAAN\")\n",
    "dna = SeqRecord(my_seq, id=\"dnatest\", annotations={\"molecule_type\": \"DNA\"})\n",
    "print(dna)"
   ]
  },
  {
   "cell_type": "code",
   "execution_count": 17,
   "id": "d94790bc",
   "metadata": {},
   "outputs": [
    {
     "name": "stdout",
     "output_type": "stream",
     "text": [
      "AUGGCCUUAAAN\n"
     ]
    }
   ],
   "source": [
    "gene = my_seq\n",
    "transcript = gene.transcribe()\n",
    "print(transcript)"
   ]
  },
  {
   "cell_type": "code",
   "execution_count": 18,
   "id": "fa731d92",
   "metadata": {},
   "outputs": [
    {
     "name": "stdout",
     "output_type": "stream",
     "text": [
      "MALX\n"
     ]
    }
   ],
   "source": [
    "protein = transcript.translate()\n",
    "print(protein)"
   ]
  },
  {
   "cell_type": "code",
   "execution_count": 26,
   "id": "7967d606",
   "metadata": {},
   "outputs": [
    {
     "name": "stdout",
     "output_type": "stream",
     "text": [
      "ID: P62945\n",
      "Name: RL41_HUMAN\n",
      "Description: 60S ribosomal protein L41\n",
      "Number of features: 0\n",
      "/molecule_type=protein\n",
      "Seq('MRAKWRKKRMRRLKRKRRKMRQRSK')\n"
     ]
    }
   ],
   "source": [
    "from Bio.Seq import Seq\n",
    "from Bio.SeqRecord import SeqRecord\n",
    "protein_record = SeqRecord(Seq(\"MRAKWRKKRMRRLKRKRRKMRQRSK\"),id=\"P62945\",\n",
    "                           name=\"RL41_HUMAN\", \n",
    "                           description=\"60S ribosomal protein L41\", \n",
    "                           annotations={\"molecule_type\": \"protein\"})\n",
    "print(protein_record)"
   ]
  },
  {
   "cell_type": "code",
   "execution_count": 27,
   "id": "2509e2a8",
   "metadata": {},
   "outputs": [
    {
     "name": "stdout",
     "output_type": "stream",
     "text": [
      "ID: >sp|Q9SE35|20-107\n",
      "Name: >sp|Q9SE35|20-107\n",
      "Description: >sp|Q9SE35|20-107\n",
      "Number of features: 0\n",
      "Seq('QSIADLAAANLSTEDSKSAQLISADSSDDASDSSVESVDAASSDVSGSSVESVD...RIL')\n"
     ]
    }
   ],
   "source": [
    "from Bio.Seq import Seq\n",
    "from Bio.SeqRecord import SeqRecord\n",
    "sequence = ''\n",
    "with open('sample.fasta','r') as f:\n",
    "    lines = f.readlines() # read the lines of the file\n",
    "    for line in lines:\n",
    "        if line.startswith('>'):\n",
    "            description = line.rstrip() # to get rid of the newline character\n",
    "        else:\n",
    "            sequence = sequence + line.rstrip()\n",
    "            protein_record = SeqRecord(Seq(sequence),\n",
    "                                       id=description, \n",
    "                                       name=description,\n",
    "                                       description=description)\n",
    "print(protein_record)"
   ]
  },
  {
   "cell_type": "code",
   "execution_count": 29,
   "id": "73534b4f",
   "metadata": {},
   "outputs": [
    {
     "name": "stdout",
     "output_type": "stream",
     "text": [
      "ID: sp|Q9SE35|20-107\n",
      "Name: sp|Q9SE35|20-107\n",
      "Description: sp|Q9SE35|20-107\n",
      "Number of features: 0\n",
      "Seq('QSIADLAAANLSTEDSKSAQLISADSSDDASDSSVESVDAASSDVSGSSVESVD...RIL')\n"
     ]
    }
   ],
   "source": [
    "from Bio import SeqIO\n",
    "records = SeqIO.parse(\"sample.fasta\", \"fasta\")\n",
    "for record in records:\n",
    "    print(record)"
   ]
  },
  {
   "cell_type": "code",
   "execution_count": 32,
   "id": "67716da2",
   "metadata": {},
   "outputs": [
    {
     "name": "stdout",
     "output_type": "stream",
     "text": [
      "sp|Q3ZM63|ETDA_HUMAN\n",
      "sp|P53803|RPAB4_HUMAN\n",
      "sp|Q538Z0|LUZP6_HUMAN\n",
      "sp|Q9BZ97|TTY13_HUMAN\n",
      "sp|P58511|SI11A_HUMAN\n",
      "ID: sp|Q3ZM63|ETDA_HUMAN\n",
      "Name: sp|Q3ZM63|ETDA_HUMAN\n",
      "Description: sp|Q3ZM63|ETDA_HUMAN\n",
      "Number of features: 0\n",
      "Seq('MDKEVPKGSPREPALNIKKSDKSFKRKKPTENVLIFLINRQLGRHRSDIDLSRWVWMLS')\n",
      "ID: sp|P53803|RPAB4_HUMAN\n",
      "Name: sp|P53803|RPAB4_HUMAN\n",
      "Description: sp|P53803|RPAB4_HUMAN\n",
      "Number of features: 0\n",
      "Seq('MDTQKDVQPPKQQPMIYICGECHTENEIKSRDPIRCRECGYRIMYKKRTKRLVVFDAR')\n",
      "ID: sp|Q538Z0|LUZP6_HUMAN\n",
      "Name: sp|Q538Z0|LUZP6_HUMAN\n",
      "Description: sp|Q538Z0|LUZP6_HUMAN\n",
      "Number of features: 0\n",
      "Seq('MKSVISYALYQVQTGSLPVYSSVLTKSPLQLQTVIYRLIVQIQHLNIPSSSSTHSSPF')\n",
      "ID: sp|Q9BZ97|TTY13_HUMAN\n",
      "Name: sp|Q9BZ97|TTY13_HUMAN\n",
      "Description: sp|Q9BZ97|TTY13_HUMAN\n",
      "Number of features: 0\n",
      "Seq('MKTQDDGVLPPYDVNQLLGWDLNLSLFLGLCLMLLLAGSCLPSPGITGLSHGSNREDR')\n",
      "ID: sp|P58511|SI11A_HUMAN\n",
      "Name: sp|P58511|SI11A_HUMAN\n",
      "Description: sp|P58511|SI11A_HUMAN Small\n",
      "Number of features: 0\n",
      "Seq('MNWKVLEHVPLLLYILAAKTLILCLTFAGVKMYQRKRLEAKQQKLEAERKKQSEKKDN')\n"
     ]
    }
   ],
   "source": [
    "from Bio import SeqIO\n",
    "record_list = []\n",
    "for record in SeqIO.parse(\"multi_sequence.fasta\", \"fasta\"):\n",
    "    print(record.id)\n",
    "    record_list.append(record)\n",
    "for record in record_list:\n",
    "    print(record)"
   ]
  },
  {
   "cell_type": "code",
   "execution_count": 33,
   "id": "7de1b871",
   "metadata": {},
   "outputs": [
    {
     "name": "stdout",
     "output_type": "stream",
     "text": [
      "ID: X03109.1\n",
      "Name: X03109\n",
      "Description: Chimpanzee fetal G-gamma-globin gene\n",
      "Number of features: 13\n",
      "/molecule_type=DNA\n",
      "/topology=linear\n",
      "/data_file_division=PRI\n",
      "/date=14-NOV-2006\n",
      "/accessions=['X03109']\n",
      "/sequence_version=1\n",
      "/gi=38219\n",
      "/keywords=['direct repeat', 'G-gamma-globin', 'gamma-globin', 'tandem repeat']\n",
      "/source=Pan troglodytes (chimpanzee)\n",
      "/organism=Pan troglodytes\n",
      "/taxonomy=['Eukaryota', 'Metazoa', 'Chordata', 'Craniata', 'Vertebrata', 'Euteleostomi', 'Mammalia', 'Eutheria', 'Euarchontoglires', 'Primates', 'Haplorrhini', 'Catarrhini', 'Hominidae', 'Pan']\n",
      "/references=[Reference(title='Chimpanzee fetal G gamma and A gamma globin gene nucleotide sequences provide further evidence of gene conversions in hominine evolution', ...), Reference(title='Direct Submission', ...)]\n",
      "Seq('CCGGCGGCTGGCTAGGGATGAAGAATAAAAGGAAGCACCCTCCAGCAGTTCCAC...AAT')\n"
     ]
    }
   ],
   "source": [
    "from Bio import SeqIO\n",
    "records = SeqIO.parse(\"sequence.gb\",\"genbank\")\n",
    "for record in records:\n",
    "    print(record)"
   ]
  },
  {
   "cell_type": "code",
   "execution_count": 34,
   "id": "2b1e95f4",
   "metadata": {},
   "outputs": [
    {
     "name": "stdout",
     "output_type": "stream",
     "text": [
      ">P62945 60S ribosomal protein L41\n",
      "MRAKWRKKRMRRLKRKRRKMRQRSK\n",
      "\n"
     ]
    }
   ],
   "source": [
    "from Bio import SeqIO\n",
    "from Bio.Seq import Seq\n",
    "from Bio.SeqRecord import SeqRecord\n",
    "protein = SeqRecord(Seq(\"MRAKWRKKRMRRLKRKRRKMRQRSK\"),\n",
    "                    id=\"P62945\",\n",
    "                    name=\"RL41_HUMAN\",\n",
    "                    description=\"60S ribosomal protein L41\")\n",
    "SeqIO.write(protein, \"example.fasta\", \"fasta\")\n",
    "with open('example.fasta') as f:\n",
    "    print(f.read())"
   ]
  },
  {
   "cell_type": "code",
   "execution_count": 35,
   "id": "b8b76859",
   "metadata": {},
   "outputs": [
    {
     "name": "stdout",
     "output_type": "stream",
     "text": [
      ">P62945 60S ribosomal protein L41\n",
      "MRAKWRKKRMRRLKRKRRKMRQRSK\n",
      ">O00631 Sarcolipin\n",
      "MGINTRELFLNFTIVLITVILMWLLVRSYQY\n",
      "\n"
     ]
    }
   ],
   "source": [
    "from Bio import SeqIO\n",
    "from Bio.Seq import Seq\n",
    "from Bio.SeqRecord import SeqRecord\n",
    "record_list = []\n",
    "protein_record_1 = SeqRecord(Seq(\"MRAKWRKKRMRRLKRKRRKMRQRSK\"),\n",
    "                             id=\"P62945\",\n",
    "                             name=\"RL41_HUMAN\",\n",
    "                             description=\"60S ribosomal protein L41\")\n",
    "protein_record_2 = SeqRecord(Seq(\"MGINTRELFLNFTIVLITVILMWLLVRSYQY\"),\n",
    "                             id=\"O00631\",\n",
    "                             name=\"SARCO_HUMAN\",\n",
    "                             description=\"Sarcolipin\")\n",
    "record_list = [protein_record_1,protein_record_2]\n",
    "SeqIO.write(record_list, \"example_2.fasta\", \"fasta\")\n",
    "with open('example_2.fasta') as f:\n",
    "    print(f.read())"
   ]
  },
  {
   "cell_type": "code",
   "execution_count": 36,
   "id": "f3effb0e",
   "metadata": {},
   "outputs": [
    {
     "name": "stdout",
     "output_type": "stream",
     "text": [
      "TACGCCC--GC\n",
      "||-||||--||\n",
      "TA-GCCCATGC\n",
      "\n",
      "8.0\n"
     ]
    }
   ],
   "source": [
    "from Bio import Align\n",
    "aligner = Align.PairwiseAligner()\n",
    "seq1 = 'TACGCCCGC'\n",
    "seq2 = 'TAGCCCATGC'\n",
    "results = aligner.align(seq1, seq2)\n",
    "for result in results:\n",
    "    print(result)\n",
    "score = aligner.score(seq1, seq2)\n",
    "print(score)"
   ]
  },
  {
   "cell_type": "code",
   "execution_count": 37,
   "id": "3df89cb1",
   "metadata": {},
   "outputs": [
    {
     "name": "stdout",
     "output_type": "stream",
     "text": [
      "Pairwise sequence aligner with parameters\n",
      "  wildcard: None\n",
      "  match_score: 1.000000\n",
      "  mismatch_score: 0.000000\n",
      "  target_internal_open_gap_score: 0.000000\n",
      "  target_internal_extend_gap_score: 0.000000\n",
      "  target_left_open_gap_score: 0.000000\n",
      "  target_left_extend_gap_score: 0.000000\n",
      "  target_right_open_gap_score: 0.000000\n",
      "  target_right_extend_gap_score: 0.000000\n",
      "  query_internal_open_gap_score: 0.000000\n",
      "  query_internal_extend_gap_score: 0.000000\n",
      "  query_left_open_gap_score: 0.000000\n",
      "  query_left_extend_gap_score: 0.000000\n",
      "  query_right_open_gap_score: 0.000000\n",
      "  query_right_extend_gap_score: 0.000000\n",
      "  mode: global\n",
      "\n",
      "----------------\n",
      "Needleman-Wunsch\n"
     ]
    }
   ],
   "source": [
    "from Bio import Align\n",
    "aligner = Align.PairwiseAligner()\n",
    "print(aligner)\n",
    "print('----------------')\n",
    "print(aligner.algorithm)"
   ]
  },
  {
   "cell_type": "code",
   "execution_count": 38,
   "id": "1decbf3b",
   "metadata": {},
   "outputs": [
    {
     "name": "stdout",
     "output_type": "stream",
     "text": [
      "TACGCCC--GC\n",
      "||-||||--||\n",
      "TA-GCCCATGC\n",
      "\n",
      "0.5\n"
     ]
    }
   ],
   "source": [
    "from Bio import Align\n",
    "aligner = Align.PairwiseAligner()\n",
    "seq1 = 'TACGCCCGC'\n",
    "seq2 = 'TAGCCCATGC'\n",
    "aligner.match_score = 1.0\n",
    "aligner.mismatch_score = -2.0\n",
    "aligner.gap_score = -2.5\n",
    "alignments = aligner.align(seq1, seq2)\n",
    "for alignment in alignments:\n",
    "    print(alignment)\n",
    "score = aligner.score(seq1, seq2)\n",
    "print(score)"
   ]
  },
  {
   "cell_type": "code",
   "execution_count": 39,
   "id": "8d1180e0",
   "metadata": {},
   "outputs": [
    {
     "name": "stdout",
     "output_type": "stream",
     "text": [
      "TACGCCC--GC\n",
      "||-||||--||\n",
      "TA-GCCCATGC\n",
      "\n",
      "8.0\n"
     ]
    }
   ],
   "source": [
    "from Bio import Align\n",
    "aligner = Align.PairwiseAligner()\n",
    "aligner.mode = 'local'\n",
    "seq1 = 'TACGCCCGC'\n",
    "seq2 = 'TAGCCCATGC'\n",
    "alignments = aligner.align(seq1, seq2)\n",
    "for alignment in alignments:\n",
    "    print(alignment)\n",
    "score = aligner.score(seq1, seq2)\n",
    "print(score)"
   ]
  },
  {
   "cell_type": "code",
   "execution_count": 40,
   "id": "590f4b29",
   "metadata": {},
   "outputs": [
    {
     "name": "stdout",
     "output_type": "stream",
     "text": [
      "TACGCCCGC\n",
      "   ||||\n",
      " TAGCCCATGC\n",
      "\n",
      "4.0\n"
     ]
    }
   ],
   "source": [
    "from Bio import Align\n",
    "aligner = Align.PairwiseAligner()\n",
    "aligner.mode = 'local'\n",
    "seq1 = 'TACGCCCGC'\n",
    "seq2 = 'TAGCCCATGC'\n",
    "aligner.match_score = 1.0\n",
    "aligner.mismatch_score = -2.0\n",
    "aligner.gap_score = -2.5\n",
    "alignments = aligner.align(seq1, seq2)\n",
    "for alignment in alignments:\n",
    "    print(alignment)\n",
    "score = aligner.score(seq1, seq2)\n",
    "print(score)"
   ]
  },
  {
   "cell_type": "code",
   "execution_count": 41,
   "id": "21181a22",
   "metadata": {},
   "outputs": [
    {
     "name": "stdout",
     "output_type": "stream",
     "text": [
      "#  Matrix made by matblas from blosum62.iij\n",
      "#  * column uses minimum score\n",
      "#  BLOSUM Clustered Scoring Matrix in 1/2 Bit Units\n",
      "#  Blocks Database = /data/blocks_5.0/blocks.dat\n",
      "#  Cluster Percentage: >= 62\n",
      "#  Entropy =   0.6979, Expected =  -0.5209\n",
      "     A    R    N    D    C    Q    E    G    H    I    L    K    M    F    P    S    T    W    Y    V    B    Z    X    *\n",
      "A  4.0 -1.0 -2.0 -2.0  0.0 -1.0 -1.0  0.0 -2.0 -1.0 -1.0 -1.0 -1.0 -2.0 -1.0  1.0  0.0 -3.0 -2.0  0.0 -2.0 -1.0  0.0 -4.0\n",
      "R -1.0  5.0  0.0 -2.0 -3.0  1.0  0.0 -2.0  0.0 -3.0 -2.0  2.0 -1.0 -3.0 -2.0 -1.0 -1.0 -3.0 -2.0 -3.0 -1.0  0.0 -1.0 -4.0\n",
      "N -2.0  0.0  6.0  1.0 -3.0  0.0  0.0  0.0  1.0 -3.0 -3.0  0.0 -2.0 -3.0 -2.0  1.0  0.0 -4.0 -2.0 -3.0  3.0  0.0 -1.0 -4.0\n",
      "D -2.0 -2.0  1.0  6.0 -3.0  0.0  2.0 -1.0 -1.0 -3.0 -4.0 -1.0 -3.0 -3.0 -1.0  0.0 -1.0 -4.0 -3.0 -3.0  4.0  1.0 -1.0 -4.0\n",
      "C  0.0 -3.0 -3.0 -3.0  9.0 -3.0 -4.0 -3.0 -3.0 -1.0 -1.0 -3.0 -1.0 -2.0 -3.0 -1.0 -1.0 -2.0 -2.0 -1.0 -3.0 -3.0 -2.0 -4.0\n",
      "Q -1.0  1.0  0.0  0.0 -3.0  5.0  2.0 -2.0  0.0 -3.0 -2.0  1.0  0.0 -3.0 -1.0  0.0 -1.0 -2.0 -1.0 -2.0  0.0  3.0 -1.0 -4.0\n",
      "E -1.0  0.0  0.0  2.0 -4.0  2.0  5.0 -2.0  0.0 -3.0 -3.0  1.0 -2.0 -3.0 -1.0  0.0 -1.0 -3.0 -2.0 -2.0  1.0  4.0 -1.0 -4.0\n",
      "G  0.0 -2.0  0.0 -1.0 -3.0 -2.0 -2.0  6.0 -2.0 -4.0 -4.0 -2.0 -3.0 -3.0 -2.0  0.0 -2.0 -2.0 -3.0 -3.0 -1.0 -2.0 -1.0 -4.0\n",
      "H -2.0  0.0  1.0 -1.0 -3.0  0.0  0.0 -2.0  8.0 -3.0 -3.0 -1.0 -2.0 -1.0 -2.0 -1.0 -2.0 -2.0  2.0 -3.0  0.0  0.0 -1.0 -4.0\n",
      "I -1.0 -3.0 -3.0 -3.0 -1.0 -3.0 -3.0 -4.0 -3.0  4.0  2.0 -3.0  1.0  0.0 -3.0 -2.0 -1.0 -3.0 -1.0  3.0 -3.0 -3.0 -1.0 -4.0\n",
      "L -1.0 -2.0 -3.0 -4.0 -1.0 -2.0 -3.0 -4.0 -3.0  2.0  4.0 -2.0  2.0  0.0 -3.0 -2.0 -1.0 -2.0 -1.0  1.0 -4.0 -3.0 -1.0 -4.0\n",
      "K -1.0  2.0  0.0 -1.0 -3.0  1.0  1.0 -2.0 -1.0 -3.0 -2.0  5.0 -1.0 -3.0 -1.0  0.0 -1.0 -3.0 -2.0 -2.0  0.0  1.0 -1.0 -4.0\n",
      "M -1.0 -1.0 -2.0 -3.0 -1.0  0.0 -2.0 -3.0 -2.0  1.0  2.0 -1.0  5.0  0.0 -2.0 -1.0 -1.0 -1.0 -1.0  1.0 -3.0 -1.0 -1.0 -4.0\n",
      "F -2.0 -3.0 -3.0 -3.0 -2.0 -3.0 -3.0 -3.0 -1.0  0.0  0.0 -3.0  0.0  6.0 -4.0 -2.0 -2.0  1.0  3.0 -1.0 -3.0 -3.0 -1.0 -4.0\n",
      "P -1.0 -2.0 -2.0 -1.0 -3.0 -1.0 -1.0 -2.0 -2.0 -3.0 -3.0 -1.0 -2.0 -4.0  7.0 -1.0 -1.0 -4.0 -3.0 -2.0 -2.0 -1.0 -2.0 -4.0\n",
      "S  1.0 -1.0  1.0  0.0 -1.0  0.0  0.0  0.0 -1.0 -2.0 -2.0  0.0 -1.0 -2.0 -1.0  4.0  1.0 -3.0 -2.0 -2.0  0.0  0.0  0.0 -4.0\n",
      "T  0.0 -1.0  0.0 -1.0 -1.0 -1.0 -1.0 -2.0 -2.0 -1.0 -1.0 -1.0 -1.0 -2.0 -1.0  1.0  5.0 -2.0 -2.0  0.0 -1.0 -1.0  0.0 -4.0\n",
      "W -3.0 -3.0 -4.0 -4.0 -2.0 -2.0 -3.0 -2.0 -2.0 -3.0 -2.0 -3.0 -1.0  1.0 -4.0 -3.0 -2.0 11.0  2.0 -3.0 -4.0 -3.0 -2.0 -4.0\n",
      "Y -2.0 -2.0 -2.0 -3.0 -2.0 -1.0 -2.0 -3.0  2.0 -1.0 -1.0 -2.0 -1.0  3.0 -3.0 -2.0 -2.0  2.0  7.0 -1.0 -3.0 -2.0 -1.0 -4.0\n",
      "V  0.0 -3.0 -3.0 -3.0 -1.0 -2.0 -2.0 -3.0 -3.0  3.0  1.0 -2.0  1.0 -1.0 -2.0 -2.0  0.0 -3.0 -1.0  4.0 -3.0 -2.0 -1.0 -4.0\n",
      "B -2.0 -1.0  3.0  4.0 -3.0  0.0  1.0 -1.0  0.0 -3.0 -4.0  0.0 -3.0 -3.0 -2.0  0.0 -1.0 -4.0 -3.0 -3.0  4.0  1.0 -1.0 -4.0\n",
      "Z -1.0  0.0  0.0  1.0 -3.0  3.0  4.0 -2.0  0.0 -3.0 -3.0  1.0 -1.0 -3.0 -1.0  0.0 -1.0 -3.0 -2.0 -2.0  1.0  4.0 -1.0 -4.0\n",
      "X  0.0 -1.0 -1.0 -1.0 -2.0 -1.0 -1.0 -1.0 -1.0 -1.0 -1.0 -1.0 -1.0 -1.0 -2.0  0.0  0.0 -2.0 -1.0 -1.0 -1.0 -1.0 -1.0 -4.0\n",
      "* -4.0 -4.0 -4.0 -4.0 -4.0 -4.0 -4.0 -4.0 -4.0 -4.0 -4.0 -4.0 -4.0 -4.0 -4.0 -4.0 -4.0 -4.0 -4.0 -4.0 -4.0 -4.0 -4.0  1.0\n",
      "\n"
     ]
    }
   ],
   "source": [
    "from Bio.Align import substitution_matrices\n",
    "matrix = substitution_matrices.load(\"BLOSUM62\")\n",
    "print(matrix)"
   ]
  },
  {
   "cell_type": "code",
   "execution_count": 42,
   "id": "763dfa72",
   "metadata": {},
   "outputs": [
    {
     "name": "stdout",
     "output_type": "stream",
     "text": [
      "10.0\n",
      "MERSTQELFINFTVVLITVLLMWLLVRSYQY\n",
      "|...|.|||.|||.|||||.|||||||||||\n",
      "MGINTRELFLNFTIVLITVILMWLLVRSYQY\n",
      "\n"
     ]
    }
   ],
   "source": [
    "from Bio import Align\n",
    "aligner = Align.PairwiseAligner()\n",
    "matrix = Align.substitution_matrices.load(\"BLOSUM62\")\n",
    "aligner.substitution_matrix = matrix\n",
    "aligner.match_score = 1.0\n",
    "aligner.mismatch_score = -2.0\n",
    "aligner.gap_score = -2.5\n",
    "protein_1 = 'MERSTQELFINFTVVLITVLLMWLLVRSYQY'\n",
    "protein_2 = 'MGINTRELFLNFTIVLITVILMWLLVRSYQY'\n",
    "score = aligner.score(protein_1 , protein_2)\n",
    "alignments = aligner.align(protein_1 , protein_2)\n",
    "print(score)\n",
    "for alignment in alignments:\n",
    "    print(alignment)"
   ]
  },
  {
   "cell_type": "code",
   "execution_count": 43,
   "id": "fd621abf",
   "metadata": {},
   "outputs": [
    {
     "name": "stdout",
     "output_type": "stream",
     "text": [
      "16.0\n",
      "MERSTQELFINFTVVLITVLLMWLLVRSYQY\n",
      "      |||.|||.|||||.|||||||||||\n",
      "MGINTRELFLNFTIVLITVILMWLLVRSYQY\n",
      "\n"
     ]
    }
   ],
   "source": [
    "from Bio import Align\n",
    "aligner = Align.PairwiseAligner()\n",
    "aligner.mode = 'local'\n",
    "matrix = Align.substitution_matrices.load(\"BLOSUM62\")\n",
    "aligner.substitution_matrix = matrix\n",
    "aligner.match_score = 1.0\n",
    "aligner.mismatch_score = -2.0\n",
    "aligner.gap_score = -2.5\n",
    "protein_1 = 'MERSTQELFINFTVVLITVLLMWLLVRSYQY'\n",
    "protein_2 = 'MGINTRELFLNFTIVLITVILMWLLVRSYQY'\n",
    "score = aligner.score(protein_1 , protein_2)\n",
    "alignments = aligner.align(protein_1 , protein_2)\n",
    "print(score)\n",
    "for alignment in alignments:\n",
    "    print(alignment)"
   ]
  },
  {
   "cell_type": "code",
   "execution_count": 62,
   "id": "41476cea",
   "metadata": {},
   "outputs": [],
   "source": [
    "from Bio.Blast import NCBIWWW\n",
    "from Bio.Seq import Seq\n",
    "sequence = Seq(\"ATTTTCTTGCTCTTGAGCTCTGGCACTTCTCTGCTGCTGTC\")\n",
    "result_handle = NCBIWWW.qblast(\"blastn\", \"nt\", sequence)\n"
   ]
  },
  {
   "cell_type": "code",
   "execution_count": 51,
   "id": "c2b92457",
   "metadata": {},
   "outputs": [],
   "source": [
    "result_handle2 = result_handle"
   ]
  },
  {
   "cell_type": "code",
   "execution_count": 63,
   "id": "b25015c9",
   "metadata": {},
   "outputs": [
    {
     "name": "stdout",
     "output_type": "stream",
     "text": [
      "****Alignment****\n",
      "sequence: gi|31790676|dbj|AP002353.4| Homo sapiens genomic DNA, chromosome 11 clone:CTD-2651C21, complete sequence\n",
      "length: 202607\n",
      "e value: 9.48123e-11\n",
      "ATTTTCTTGCTCTTGAGCTCTGGCACTTCTCTGCTGCTGTC…\n",
      "||||||||||||||||||||||||||||||…\n",
      "ATTTTCTTGCTCTTGAGCTCTGGCA…\n",
      "****Alignment****\n",
      "sequence: gi|694946907|ref|XR_673052.1| PREDICTED: Pan troglodytes sarcolipin (SLN), transcript variant X2, misc_RNA\n",
      "length: 904\n",
      "e value: 4.9114e-08\n",
      "CTTGCTCTTGAGCTCTGGCACTTCTCTGCTGCTGTC…\n",
      "||||||||||||||||||||||||||||||…\n",
      "CTTGCTCTTGAGCTCTGGCACTTCT…\n",
      "****Alignment****\n",
      "sequence: gi|1777262699|ref|XR_637767.2| PREDICTED: Papio anubis sarcolipin (SLN), transcript variant X2, misc_RNA\n",
      "length: 904\n",
      "e value: 2.08838e-06\n",
      "CTTGCTCTTGAGCTCTGGCACTTCTCTGCTGCTGTC…\n",
      "||||||||||||||||||| ||||||||||…\n",
      "CTTGCTCTTGAGCTCTGGCTCTTCT…\n"
     ]
    }
   ],
   "source": [
    "from Bio.Blast import NCBIXML\n",
    "blast_records = NCBIXML.parse(result_handle)\n",
    "for b in blast_records:\n",
    "    for alignment in b.alignments[:3]:\n",
    "        for hsp in alignment.hsps:\n",
    "            print('****Alignment****')\n",
    "            print('sequence:', alignment.title)\n",
    "            print('length:', alignment.length)\n",
    "            print('e value:', hsp.expect)\n",
    "            print(hsp.query[0:75] + '…')\n",
    "            print(hsp.match[0:30] + '…')\n",
    "            print(hsp.sbjct[0:25] + '…')"
   ]
  },
  {
   "cell_type": "code",
   "execution_count": 54,
   "id": "990a4e8d",
   "metadata": {},
   "outputs": [],
   "source": [
    "result_handle3 = result_handle"
   ]
  },
  {
   "cell_type": "code",
   "execution_count": 71,
   "id": "97b9ec61",
   "metadata": {},
   "outputs": [
    {
     "name": "stdout",
     "output_type": "stream",
     "text": [
      "Alignment with 6 rows and 26 columns\n",
      "AACCGTCAGAAGAGAGCTTTATGCAC Seq0\n",
      "AACCGTCGGAAAAGAGCTTTAGTCTC Seq5\n",
      "AACCGTCCGAATCGAGCATTATTCTC Seq2\n",
      "AACCGTCCGAATAGCCCTTTATTCTC Seq3\n",
      "ATCCGTCAGGATAGAGTTTTATTCTC Seq1\n",
      "ATCGGTACGAATAGAGCTTTATTCTC Seq4\n"
     ]
    }
   ],
   "source": [
    "#open the alignment file\n",
    "from Bio import AlignIO\n",
    "with open(\"aln_file.clustal_num\", \"r\") as aln:\n",
    "#use AlignIO to read the alignment file in 'clustal' format\n",
    "    alignment = AlignIO.read(aln, \"clustal\")\n",
    "print(alignment)"
   ]
  },
  {
   "cell_type": "code",
   "execution_count": 67,
   "id": "25381ddf",
   "metadata": {},
   "outputs": [
    {
     "data": {
      "text/plain": [
       "<<class 'Bio.Align.MultipleSeqAlignment'> instance (6 records of length 26) at 19dde4c8d48>"
      ]
     },
     "execution_count": 67,
     "metadata": {},
     "output_type": "execute_result"
    }
   ],
   "source": [
    "alignment"
   ]
  },
  {
   "cell_type": "code",
   "execution_count": 72,
   "id": "869779cc",
   "metadata": {},
   "outputs": [
    {
     "name": "stdout",
     "output_type": "stream",
     "text": [
      "Seq0\t0\n",
      "Seq5\t0.1923076923076923\t0\n",
      "Seq2\t0.23076923076923073\t0.1923076923076923\t0\n",
      "Seq3\t0.23076923076923073\t0.1923076923076923\t0.15384615384615385\t0\n",
      "Seq1\t0.23076923076923073\t0.23076923076923073\t0.23076923076923073\t0.23076923076923073\t0\n",
      "Seq4\t0.2692307692307693\t0.23076923076923073\t0.1923076923076923\t0.1923076923076923\t0.1923076923076923\t0\n",
      "\tSeq0\tSeq5\tSeq2\tSeq3\tSeq1\tSeq4\n"
     ]
    }
   ],
   "source": [
    "from Bio.Phylo.TreeConstruction import DistanceCalculator\n",
    "#calculate the distance matrix\n",
    "calculator = DistanceCalculator('identity')\n",
    "#adds distance matrix to the calculator object and returns it\n",
    "dm = calculator.get_distance(alignment)\n",
    "print(dm)"
   ]
  },
  {
   "cell_type": "code",
   "execution_count": 73,
   "id": "46f06d94",
   "metadata": {},
   "outputs": [
    {
     "name": "stdout",
     "output_type": "stream",
     "text": [
      "Tree(rooted=False)\n",
      "    Clade(branch_length=0, name='Inner4')\n",
      "        Clade(branch_length=0.024038461538461536, name='Inner1')\n",
      "            Clade(branch_length=0.11057692307692307, name='Seq0')\n",
      "            Clade(branch_length=0.08173076923076922, name='Seq5')\n",
      "        Clade(branch_length=0.0144230769230769, name='Inner3')\n",
      "            Clade(branch_length=0.07692307692307693, name='Seq3')\n",
      "            Clade(branch_length=0.07692307692307693, name='Seq2')\n",
      "        Clade(branch_length=0.024038461538461536, name='Inner2')\n",
      "            Clade(branch_length=0.08653846153846156, name='Seq4')\n",
      "            Clade(branch_length=0.10576923076923073, name='Seq1')\n"
     ]
    }
   ],
   "source": [
    "from Bio.Phylo.TreeConstruction import DistanceTreeConstructor\n",
    "#initialize a DistanceTreeConstructor object based on our distance calculator object\n",
    "constructor = DistanceTreeConstructor(calculator)\n",
    "#build the tree\n",
    "tree = constructor.build_tree(alignment)\n",
    "print(tree)"
   ]
  },
  {
   "cell_type": "code",
   "execution_count": 74,
   "id": "e8d9457c",
   "metadata": {},
   "outputs": [
    {
     "data": {
      "image/png": "[encoded data removed]",
      "text/plain": [
       "<Figure size 432x288 with 1 Axes>"
      ]
     },
     "metadata": {
      "needs_background": "light"
     },
     "output_type": "display_data"
    }
   ],
   "source": [
    "from Bio import Phylo\n",
    "import pylab\n",
    "#draw the tree\n",
    "Phylo.draw(tree)"
   ]
  },
  {
   "cell_type": "code",
   "execution_count": 75,
   "id": "215c9c2d",
   "metadata": {},
   "outputs": [
    {
     "name": "stdout",
     "output_type": "stream",
     "text": [
      "Downloading PDB structure '1mbs'...\n",
      "Downloading PDB structure '1mbs'...\n"
     ]
    },
    {
     "data": {
      "text/plain": [
       "'.\\\\1mbs.cif'"
      ]
     },
     "execution_count": 75,
     "metadata": {},
     "output_type": "execute_result"
    }
   ],
   "source": [
    "from Bio.PDB import PDBList\n",
    "pdbl = PDBList()\n",
    "pdbl.retrieve_pdb_file('1mbs', pdir = '.', file_format = 'pdb')\n",
    "pdbl.retrieve_pdb_file('1mbs', pdir = '.', file_format = 'mmCif')"
   ]
  },
  {
   "cell_type": "code",
   "execution_count": 76,
   "id": "07baa949",
   "metadata": {},
   "outputs": [
    {
     "name": "stdout",
     "output_type": "stream",
     "text": [
      "dict_keys(['name', 'head', 'idcode', 'deposition_date', 'release_date', 'structure_method', 'resolution', 'structure_reference', 'journal_reference', 'author', 'compound', 'source', 'has_missing_residues', 'missing_residues', 'keywords', 'journal'])\n",
      "-----------------------------\n",
      "x-ray crystallographic studies of seal myoglobin. the molecule at 2.5 angstroms resolution\n",
      "1979-05-15\n",
      "2.5\n",
      "oxygen transport\n"
     ]
    }
   ],
   "source": [
    "from Bio.PDB.PDBParser import PDBParser\n",
    "parser = PDBParser(QUIET = True)\n",
    "pdb_id = \"1mbs\"\n",
    "pdb_filename = \"pdb1mbs.ent\"\n",
    "structure_pdb = parser.get_structure(pdb_id, pdb_filename)\n",
    "print(structure_pdb.header.keys())\n",
    "print('-----------------------------')\n",
    "print(structure_pdb.header[\"name\"])\n",
    "print(structure_pdb.header[\"release_date\"])\n",
    "print(structure_pdb.header[\"resolution\"])\n",
    "print(structure_pdb.header[\"keywords\"])"
   ]
  },
  {
   "cell_type": "code",
   "execution_count": 77,
   "id": "d65e7edc",
   "metadata": {},
   "outputs": [
    {
     "name": "stdout",
     "output_type": "stream",
     "text": [
      "[<Model id=0>]\n"
     ]
    }
   ],
   "source": [
    "models = list(structure_pdb.get_models())\n",
    "print(models)"
   ]
  },
  {
   "cell_type": "code",
   "execution_count": 78,
   "id": "8c9af4a1",
   "metadata": {},
   "outputs": [
    {
     "name": "stdout",
     "output_type": "stream",
     "text": [
      "[<Chain id=A>]\n"
     ]
    }
   ],
   "source": [
    "chains = list(models[0].get_chains())\n",
    "print(chains)"
   ]
  },
  {
   "cell_type": "code",
   "execution_count": 79,
   "id": "8a495c7c",
   "metadata": {},
   "outputs": [
    {
     "name": "stdout",
     "output_type": "stream",
     "text": [
      "154\n"
     ]
    }
   ],
   "source": [
    "residues_0 = list(chains[0].get_residues())\n",
    "print(len(residues_0))"
   ]
  },
  {
   "cell_type": "code",
   "execution_count": 81,
   "id": "c0f4234f",
   "metadata": {},
   "outputs": [
    {
     "name": "stdout",
     "output_type": "stream",
     "text": [
      "<Residue GLY het=  resseq=1 icode= >\n",
      "[<Atom N>, <Atom CA>, <Atom C>, <Atom O>]\n",
      "<Atom N>\n",
      "<Vector 15.74, 11.18, -11.73>\n"
     ]
    }
   ],
   "source": [
    "print(residues_0[0])\n",
    "atoms = list(residues_0[0].get_atoms())\n",
    "print(atoms)\n",
    "print(atoms[0])\n",
    "print(atoms[0].get_vector())"
   ]
  },
  {
   "cell_type": "code",
   "execution_count": 83,
   "id": "ed5d8c8b",
   "metadata": {},
   "outputs": [
    {
     "name": "stdout",
     "output_type": "stream",
     "text": [
      "<Atom N>\n",
      "<Vector 15.74, 11.18, -11.73>\n",
      "<Atom CA>\n",
      "<Vector 15.23, 10.46, -10.56>\n",
      "<Atom C>\n",
      "<Vector 16.28, 9.48, -10.00>\n",
      "<Atom O>\n",
      "<Vector 17.15, 8.98, -10.71>\n"
     ]
    }
   ],
   "source": [
    "for model in structure_pdb.get_models():\n",
    "    for chain in model.get_chains():\n",
    "        for residue in chain.get_residues():\n",
    "            for atom in residue.get_atoms():\n",
    "                print(atom)\n",
    "                print(atom.get_vector())\n",
    "            break\n",
    "        break"
   ]
  },
  {
   "cell_type": "code",
   "execution_count": 84,
   "id": "a0ee2907",
   "metadata": {},
   "outputs": [
    {
     "name": "stdout",
     "output_type": "stream",
     "text": [
      "['data_', '_entry.id', '_audit_conform.dict_name', '_audit_conform.dict_version', '_audit_conform.dict_location', '_database_2.database_id', '_database_2.database_code', '_pdbx_database_status.status_code', '_pdbx_database_status.entry_id', '_pdbx_database_status.recvd_initial_deposition_date']\n",
      "528\n"
     ]
    }
   ],
   "source": [
    "from Bio.PDB.MMCIF2Dict import MMCIF2Dict\n",
    "mmcif_dict = MMCIF2Dict(\"1mbs.cif\")\n",
    "print(list(mmcif_dict.keys())[:10])\n",
    "print(len(list(mmcif_dict.keys())))"
   ]
  },
  {
   "cell_type": "code",
   "execution_count": 85,
   "id": "3204e687",
   "metadata": {},
   "outputs": [
    {
     "name": "stdout",
     "output_type": "stream",
     "text": [
      "['52.12']\n",
      "1266\n",
      "['11.178', '10.462', '9.483', '8.979', '9.240', '8.164', '7.481', '7.424', '7.101', '7.724']\n"
     ]
    }
   ],
   "source": [
    "print(mmcif_dict[\"_exptl_crystal.density_percent_sol\"])\n",
    "y_list = mmcif_dict[\"_atom_site.Cartn_y\"]\n",
    "print(len(y_list))\n",
    "print(y_list[:10])"
   ]
  },
  {
   "cell_type": "code",
   "execution_count": 92,
   "id": "657092d5",
   "metadata": {},
   "outputs": [
    {
     "name": "stdout",
     "output_type": "stream",
     "text": [
      "2.805758\n"
     ]
    }
   ],
   "source": [
    "import math\n",
    "coordinates_0 = atoms[0].get_vector()\n",
    "coordinates_1 = atoms[-1].get_vector()\n",
    "x0,y0,z0 = coordinates_0\n",
    "x1,y1,z1 = coordinates_1\n",
    "#Euclidean distance\n",
    "distance = math.sqrt((x1 - x0)**2+(y1 - y0)**2+(z1 - z0)**2)\n",
    "print(round(distance,6))"
   ]
  },
  {
   "cell_type": "code",
   "execution_count": 93,
   "id": "9c3b5194",
   "metadata": {},
   "outputs": [
    {
     "name": "stdout",
     "output_type": "stream",
     "text": [
      "2.8057582\n"
     ]
    }
   ],
   "source": [
    "atoms = list(residues_0[0].get_atoms())\n",
    "print(atoms[0]-atoms[-1]) #builtin in pdb module"
   ]
  },
  {
   "cell_type": "code",
   "execution_count": null,
   "id": "b3d99400",
   "metadata": {},
   "outputs": [],
   "source": []
  }
 ],
 "metadata": {
  "kernelspec": {
   "display_name": "Python 3",
   "language": "python",
   "name": "python3"
  },
  "language_info": {
   "codemirror_mode": {
    "name": "ipython",
    "version": 3
   },
   "file_extension": ".py",
   "mimetype": "text/x-python",
   "name": "python",
   "nbconvert_exporter": "python",
   "pygments_lexer": "ipython3",
   "version": "3.7.11"
  }
 },
 "nbformat": 4,
 "nbformat_minor": 5
}
